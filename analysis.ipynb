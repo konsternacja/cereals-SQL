{
 "cells": [
  {
   "cell_type": "code",
   "execution_count": 21,
   "metadata": {},
   "outputs": [
    {
     "name": "stdout",
     "output_type": "stream",
     "text": [
      "Requirement already satisfied: mysql-connector-python in /home/konsternacja/anaconda3/envs/myenv/lib/python3.11/site-packages (8.1.0)\n",
      "Requirement already satisfied: protobuf<=4.21.12,>=4.21.1 in /home/konsternacja/anaconda3/envs/myenv/lib/python3.11/site-packages (from mysql-connector-python) (4.21.12)\n",
      "Note: you may need to restart the kernel to use updated packages.\n"
     ]
    }
   ],
   "source": [
    "%pip install mysql-connector-python"
   ]
  },
  {
   "cell_type": "code",
   "execution_count": 22,
   "metadata": {},
   "outputs": [],
   "source": [
    "import numpy as np # linear algebra\n",
    "import pandas as pd # data processing, CSV file I/O (e.g. pd.read_csv)\n",
    "import mysql.connector\n",
    "import matplotlib.pyplot as plt\n",
    "import json"
   ]
  },
  {
   "cell_type": "code",
   "execution_count": 23,
   "metadata": {},
   "outputs": [
    {
     "data": {
      "text/plain": [
       "{'password': 'Kucyk123',\n",
       " 'host': 'localhost',\n",
       " 'user': 'root',\n",
       " 'database': 'cereals'}"
      ]
     },
     "execution_count": 23,
     "metadata": {},
     "output_type": "execute_result"
    }
   ],
   "source": [
    "with open('secrets.json') as json_file:\n",
    "    secrets = json.load(json_file)\n",
    "    \n",
    "secrets\n"
   ]
  },
  {
   "cell_type": "code",
   "execution_count": 24,
   "metadata": {},
   "outputs": [
    {
     "name": "stdout",
     "output_type": "stream",
     "text": [
      "<mysql.connector.connection_cext.CMySQLConnection object at 0x7f086a6a53d0>\n"
     ]
    }
   ],
   "source": [
    "mydb = mysql.connector.connect(\n",
    "    host = secrets[\"host\"],\n",
    "    user = secrets['user'],\n",
    "    passwd = secrets['password'],\n",
    "    database = secrets['database']\n",
    ")\n",
    "print(mydb)"
   ]
  },
  {
   "cell_type": "code",
   "execution_count": 25,
   "metadata": {},
   "outputs": [
    {
     "name": "stdout",
     "output_type": "stream",
     "text": [
      "Server Version is ('8.0.34',)\n"
     ]
    }
   ],
   "source": [
    "mycursor = mydb.cursor()\n",
    "mycursor.execute('SELECT VERSION ()')\n",
    "row = mycursor.fetchone()\n",
    "print('Server Version is',row)"
   ]
  },
  {
   "cell_type": "code",
   "execution_count": 36,
   "metadata": {},
   "outputs": [
    {
     "name": "stdout",
     "output_type": "stream",
     "text": [
      "('100% Bran', 'N', 'C', 70, 4, 1, 130, 10.0, 5.0, 6, 280, 25, 3, 1.0, 0.33, 68.403)\n",
      "('100% Natural Bran', 'Q', 'C', 120, 3, 5, 15, 2.0, 8.0, 8, 135, 0, 3, 1.0, 1.0, 33.9837)\n",
      "('All-Bran', 'K', 'C', 70, 4, 1, 260, 9.0, 7.0, 5, 320, 25, 3, 1.0, 0.33, 59.4255)\n",
      "('All-Bran with Extra Fiber', 'K', 'C', 50, 4, 0, 140, 14.0, 8.0, 0, 330, 25, 3, 1.0, 0.5, 93.7049)\n",
      "('Almond Delight', 'R', 'C', 110, 2, 2, 200, 1.0, 14.0, 8, -1, 25, 3, 1.0, 0.75, 34.3848)\n",
      "('Apple Cinnamon Cheerios', 'G', 'C', 110, 2, 2, 180, 1.5, 10.5, 10, 70, 25, 1, 1.0, 0.75, 29.5095)\n",
      "('Apple Jacks', 'K', 'C', 110, 2, 0, 125, 1.0, 11.0, 14, 30, 25, 2, 1.0, 1.0, 33.1741)\n",
      "('Basic 4', 'G', 'C', 130, 3, 2, 210, 2.0, 18.0, 8, 100, 25, 3, 1.33, 0.75, 37.0386)\n",
      "('Bran Chex', 'R', 'C', 90, 2, 1, 200, 4.0, 15.0, 6, 125, 25, 1, 1.0, 0.67, 49.1203)\n",
      "('Bran Flakes', 'P', 'C', 90, 3, 0, 210, 5.0, 13.0, 5, 190, 25, 3, 1.0, 0.67, 53.3138)\n",
      "('Cap n Crunch', 'Q', 'C', 120, 1, 2, 220, 0.0, 12.0, 12, 35, 25, 2, 1.0, 0.75, 18.0429)\n",
      "('Cheerios', 'G', 'C', 110, 6, 2, 290, 2.0, 17.0, 1, 105, 25, 1, 1.0, 1.25, 50.765)\n",
      "('Cinnamon Toast Crunch', 'G', 'C', 120, 1, 3, 210, 0.0, 13.0, 9, 45, 25, 2, 1.0, 0.75, 19.8236)\n",
      "('Clusters', 'G', 'C', 110, 3, 2, 140, 2.0, 13.0, 7, 105, 25, 3, 1.0, 0.5, 40.4002)\n",
      "('Cocoa Puffs', 'G', 'C', 110, 1, 1, 180, 0.0, 12.0, 13, 55, 25, 2, 1.0, 1.0, 22.7364)\n",
      "('Corn Chex', 'R', 'C', 110, 2, 0, 280, 0.0, 22.0, 3, 25, 25, 1, 1.0, 1.0, 41.445)\n",
      "('Corn Flakes', 'K', 'C', 100, 2, 0, 290, 1.0, 21.0, 2, 35, 25, 1, 1.0, 1.0, 45.8633)\n",
      "('Corn Pops', 'K', 'C', 110, 1, 0, 90, 1.0, 13.0, 12, 20, 25, 2, 1.0, 1.0, 35.7828)\n",
      "('Count Chocula', 'G', 'C', 110, 1, 1, 180, 0.0, 12.0, 13, 65, 25, 2, 1.0, 1.0, 22.3965)\n",
      "('Cracklin Oat Bran', 'K', 'C', 110, 3, 3, 140, 4.0, 10.0, 7, 160, 25, 3, 1.0, 0.5, 40.4488)\n",
      "('Cream of Wheat (Quick)', 'N', 'H', 100, 3, 0, 80, 1.0, 21.0, 0, -1, 0, 2, 1.0, 1.0, 64.5338)\n",
      "('Crispix', 'K', 'C', 110, 2, 0, 220, 1.0, 21.0, 3, 30, 25, 3, 1.0, 1.0, 46.8956)\n",
      "('Crispy Wheat & Raisins', 'G', 'C', 100, 2, 1, 140, 2.0, 11.0, 10, 120, 25, 3, 1.0, 0.75, 36.1762)\n",
      "('Double Chex', 'R', 'C', 100, 2, 0, 190, 1.0, 18.0, 5, 80, 25, 3, 1.0, 0.75, 44.3309)\n",
      "('Froot Loops', 'K', 'C', 110, 2, 1, 125, 1.0, 11.0, 13, 30, 25, 2, 1.0, 1.0, 32.2076)\n",
      "('Frosted Flakes', 'K', 'C', 110, 1, 0, 200, 1.0, 14.0, 11, 25, 25, 1, 1.0, 0.75, 31.436)\n",
      "('Frosted Mini-Wheats', 'K', 'C', 100, 3, 0, 0, 3.0, 14.0, 7, 100, 25, 2, 1.0, 0.8, 58.3451)\n",
      "('Fruit & Fibre Dates & Walnuts and Oats ', 'P', 'C', 120, 3, 2, 160, 5.0, 12.0, 10, 200, 25, 3, 1.25, 0.67, 40.917)\n",
      "('Fruitful Bran', 'K', 'C', 120, 3, 0, 240, 5.0, 14.0, 12, 190, 25, 3, 1.33, 0.67, 41.0155)\n",
      "('Fruity Pebbles', 'P', 'C', 110, 1, 1, 135, 0.0, 13.0, 12, 25, 25, 2, 1.0, 0.75, 28.0258)\n",
      "('Golden Crisp', 'P', 'C', 100, 2, 0, 45, 0.0, 11.0, 15, 40, 25, 1, 1.0, 0.88, 35.2524)\n",
      "('Golden Grahams', 'G', 'C', 110, 1, 1, 280, 0.0, 15.0, 9, 45, 25, 2, 1.0, 0.75, 23.804)\n",
      "('Grape Nuts Flakes', 'P', 'C', 100, 3, 1, 140, 3.0, 15.0, 5, 85, 25, 3, 1.0, 0.88, 52.0769)\n",
      "('Grape-Nuts', 'P', 'C', 110, 3, 0, 170, 3.0, 17.0, 3, 90, 25, 3, 1.0, 0.25, 53.371)\n",
      "('Great Grains Pecan', 'P', 'C', 120, 3, 3, 75, 3.0, 13.0, 4, 100, 25, 3, 1.0, 0.33, 45.8117)\n",
      "('Honey Graham Ohs', 'Q', 'C', 120, 1, 2, 220, 1.0, 12.0, 11, 45, 25, 2, 1.0, 1.0, 21.8713)\n",
      "('Honey Nut Cheerios', 'G', 'C', 110, 3, 1, 250, 1.5, 11.5, 10, 90, 25, 1, 1.0, 0.75, 31.0722)\n",
      "('Honey-comb', 'P', 'C', 110, 1, 0, 180, 0.0, 14.0, 11, 35, 25, 1, 1.0, 1.33, 28.7424)\n",
      "('Just Right Crunchy  Nuggets', 'K', 'C', 110, 2, 1, 170, 1.0, 17.0, 6, 60, 100, 3, 1.0, 1.0, 36.5237)\n",
      "('Just Right Fruit & Nut', 'K', 'C', 140, 3, 1, 170, 2.0, 20.0, 9, 95, 100, 3, 1.3, 0.75, 36.4715)\n",
      "('Kix', 'G', 'C', 110, 2, 1, 260, 0.0, 21.0, 3, 40, 25, 2, 1.0, 1.5, 39.2411)\n",
      "('Life', 'Q', 'C', 100, 4, 2, 150, 2.0, 12.0, 6, 95, 25, 2, 1.0, 0.67, 45.3281)\n",
      "('Lucky Charms', 'G', 'C', 110, 2, 1, 180, 0.0, 12.0, 12, 55, 25, 2, 1.0, 1.0, 26.7345)\n",
      "('Maypo', 'A', 'H', 100, 4, 1, 0, 0.0, 16.0, 3, 95, 25, 2, 1.0, 1.0, 54.8509)\n",
      "('Muesli Raisins Dates Almonds', 'R', 'C', 150, 4, 3, 95, 3.0, 16.0, 11, 170, 25, 3, 1.0, 1.0, 37.1369)\n",
      "('Muesli Raisins Peches Pecans', 'R', 'C', 150, 4, 3, 150, 3.0, 16.0, 11, 170, 25, 3, 1.0, 1.0, 34.1398)\n",
      "('Mueslix Crispy Blend', 'K', 'C', 160, 3, 2, 150, 3.0, 17.0, 13, 160, 25, 3, 1.5, 0.67, 30.3134)\n",
      "('Multi-Grain Cheerios', 'G', 'C', 100, 2, 1, 220, 2.0, 15.0, 6, 90, 25, 1, 1.0, 1.0, 40.106)\n",
      "('Nut&Honey Crunch', 'K', 'C', 120, 2, 1, 190, 0.0, 15.0, 9, 40, 25, 2, 1.0, 0.67, 29.9243)\n",
      "('Nutri-Grain Almond-Raisin', 'K', 'C', 140, 3, 2, 220, 3.0, 21.0, 7, 130, 25, 3, 1.33, 0.67, 40.6923)\n",
      "('Nutri-grain Wheat', 'K', 'C', 90, 3, 0, 170, 3.0, 18.0, 2, 90, 25, 3, 1.0, 1.0, 59.6428)\n",
      "('Oatmeal Raisin Crisp', 'G', 'C', 130, 3, 2, 170, 1.5, 13.5, 10, 120, 25, 3, 1.25, 0.5, 30.4508)\n",
      "('Post Nat. Raisin Bran', 'P', 'C', 120, 3, 1, 200, 6.0, 11.0, 14, 260, 25, 3, 1.33, 0.67, 37.8406)\n",
      "('Product 19', 'K', 'C', 100, 3, 0, 320, 1.0, 20.0, 3, 45, 100, 3, 1.0, 1.0, 41.5035)\n",
      "('Puffed Rice', 'Q', 'C', 50, 1, 0, 0, 0.0, 13.0, 0, 15, 0, 3, 0.5, 1.0, 60.7561)\n",
      "('Puffed Wheat', 'Q', 'C', 50, 2, 0, 0, 1.0, 10.0, 0, 50, 0, 3, 0.5, 1.0, 63.0056)\n",
      "('Quaker Oat Squares', 'Q', 'C', 100, 4, 1, 135, 2.0, 14.0, 6, 110, 25, 3, 1.0, 0.5, 49.5119)\n",
      "('Quaker Oatmeal', 'Q', 'H', 100, 5, 2, 0, 2.7, -1.0, -1, 110, 0, 1, 1.0, 0.67, 50.8284)\n",
      "('Raisin Bran', 'K', 'C', 120, 3, 1, 210, 5.0, 14.0, 12, 240, 25, 2, 1.33, 0.75, 39.2592)\n",
      "('Raisin Nut Bran', 'G', 'C', 100, 3, 2, 140, 2.5, 10.5, 8, 140, 25, 3, 1.0, 0.5, 39.7034)\n",
      "('Raisin Squares', 'K', 'C', 90, 2, 0, 0, 2.0, 15.0, 6, 110, 25, 3, 1.0, 0.5, 55.3331)\n",
      "('Rice Chex', 'R', 'C', 110, 1, 0, 240, 0.0, 23.0, 2, 30, 25, 1, 1.0, 1.13, 41.9989)\n",
      "('Rice Krispies', 'K', 'C', 110, 2, 0, 290, 0.0, 22.0, 3, 35, 25, 1, 1.0, 1.0, 40.5602)\n",
      "('Shredded Wheat', 'N', 'C', 80, 2, 0, 0, 3.0, 16.0, 0, 95, 0, 1, 0.83, 1.0, 68.2359)\n",
      "('Shredded Wheat n Bran', 'N', 'C', 90, 3, 0, 0, 4.0, 19.0, 0, 140, 0, 1, 1.0, 0.67, 74.4729)\n",
      "('Shredded Wheat spoon size', 'N', 'C', 90, 3, 0, 0, 3.0, 20.0, 0, 120, 0, 1, 1.0, 0.67, 72.8018)\n",
      "('Smacks', 'K', 'C', 110, 2, 1, 70, 1.0, 9.0, 15, 40, 25, 2, 1.0, 0.75, 31.2301)\n",
      "('Special K', 'K', 'C', 110, 6, 0, 230, 1.0, 16.0, 3, 55, 25, 1, 1.0, 1.0, 53.1313)\n",
      "('Strawberry Fruit Wheats', 'N', 'C', 90, 2, 0, 15, 3.0, 15.0, 5, 90, 25, 2, 1.0, 1.0, 59.364)\n",
      "('Total Corn Flakes', 'G', 'C', 110, 2, 1, 200, 0.0, 21.0, 3, 35, 100, 3, 1.0, 1.0, 38.8397)\n",
      "('Total Raisin Bran', 'G', 'C', 140, 3, 1, 190, 4.0, 15.0, 14, 230, 100, 3, 1.5, 1.0, 28.5928)\n",
      "('Total Whole Grain', 'G', 'C', 100, 3, 1, 200, 3.0, 16.0, 3, 110, 100, 3, 1.0, 1.0, 46.6588)\n",
      "('Triples', 'G', 'C', 110, 2, 1, 250, 0.0, 21.0, 3, 60, 25, 3, 1.0, 0.75, 39.1062)\n",
      "('Trix', 'G', 'C', 110, 1, 1, 140, 0.0, 13.0, 12, 25, 25, 2, 1.0, 1.0, 27.7533)\n",
      "('Wheat Chex', 'R', 'C', 100, 3, 1, 230, 3.0, 17.0, 3, 115, 25, 1, 1.0, 0.67, 49.7874)\n",
      "('Wheaties', 'G', 'C', 100, 3, 1, 200, 3.0, 17.0, 3, 110, 25, 1, 1.0, 1.0, 51.5922)\n",
      "('Wheaties Honey Gold', 'G', 'C', 110, 2, 1, 200, 1.0, 16.0, 8, 60, 25, 1, 1.0, 0.75, 36.1876)\n"
     ]
    }
   ],
   "source": [
    "mycursor = mydb.cursor(buffered=True)\n",
    "mycursor.execute(\"SELECT * FROM main;\")\n",
    "\n",
    "myresult = mycursor.fetchall()\n",
    "\n",
    "for x in myresult:\n",
    "    print(x)"
   ]
  },
  {
   "cell_type": "code",
   "execution_count": null,
   "metadata": {},
   "outputs": [],
   "source": [
    "mycursor.execute(\"CREATE TABLE nutrition (brand VARCHAR(255), calories INT, protein INT, fat INT, sodium INT, fiber FLOAT, carbo FLOAT, sugars INT, potass INT, vitamins INT, PRIMARY KEY (brand))\")"
   ]
  },
  {
   "cell_type": "code",
   "execution_count": 40,
   "metadata": {},
   "outputs": [
    {
     "name": "stdout",
     "output_type": "stream",
     "text": [
      "('main',)\n",
      "('nutrition',)\n",
      "('store',)\n"
     ]
    }
   ],
   "source": [
    "mycursor.execute('SHOW TABLES')\n",
    "for x in mycursor:\n",
    "    print(x)"
   ]
  },
  {
   "cell_type": "code",
   "execution_count": 38,
   "metadata": {},
   "outputs": [],
   "source": [
    "mycursor.execute(\"SELECT brand, calories, protein, fat, sodium, fiber, carbo, sugars, potass, vitamins FROM main\")\n",
    "\n",
    "# Pobrane dane\n",
    "result = mycursor.fetchall()\n",
    "\n",
    "# Wstaw dane do tabeli docelowej\n",
    "for row in result:\n",
    "    insert_query = \"INSERT INTO nutrition (brand, calories, protein, fat, sodium, fiber, carbo, sugars, potass, vitamins) VALUES (%s, %s, %s, %s, %s, %s, %s, %s, %s, %s)\"\n",
    "    mycursor.execute(insert_query, row)"
   ]
  },
  {
   "cell_type": "code",
   "execution_count": 39,
   "metadata": {},
   "outputs": [
    {
     "name": "stdout",
     "output_type": "stream",
     "text": [
      "('100% Bran', 70, 4, 1, 130, 10.0, 5.0, 6, 280, 25)\n",
      "('100% Natural Bran', 120, 3, 5, 15, 2.0, 8.0, 8, 135, 0)\n",
      "('All-Bran', 70, 4, 1, 260, 9.0, 7.0, 5, 320, 25)\n",
      "('All-Bran with Extra Fiber', 50, 4, 0, 140, 14.0, 8.0, 0, 330, 25)\n",
      "('Almond Delight', 110, 2, 2, 200, 1.0, 14.0, 8, -1, 25)\n",
      "('Apple Cinnamon Cheerios', 110, 2, 2, 180, 1.5, 10.5, 10, 70, 25)\n",
      "('Apple Jacks', 110, 2, 0, 125, 1.0, 11.0, 14, 30, 25)\n",
      "('Basic 4', 130, 3, 2, 210, 2.0, 18.0, 8, 100, 25)\n",
      "('Bran Chex', 90, 2, 1, 200, 4.0, 15.0, 6, 125, 25)\n",
      "('Bran Flakes', 90, 3, 0, 210, 5.0, 13.0, 5, 190, 25)\n",
      "('Cap n Crunch', 120, 1, 2, 220, 0.0, 12.0, 12, 35, 25)\n",
      "('Cheerios', 110, 6, 2, 290, 2.0, 17.0, 1, 105, 25)\n",
      "('Cinnamon Toast Crunch', 120, 1, 3, 210, 0.0, 13.0, 9, 45, 25)\n",
      "('Clusters', 110, 3, 2, 140, 2.0, 13.0, 7, 105, 25)\n",
      "('Cocoa Puffs', 110, 1, 1, 180, 0.0, 12.0, 13, 55, 25)\n",
      "('Corn Chex', 110, 2, 0, 280, 0.0, 22.0, 3, 25, 25)\n",
      "('Corn Flakes', 100, 2, 0, 290, 1.0, 21.0, 2, 35, 25)\n",
      "('Corn Pops', 110, 1, 0, 90, 1.0, 13.0, 12, 20, 25)\n",
      "('Count Chocula', 110, 1, 1, 180, 0.0, 12.0, 13, 65, 25)\n",
      "('Cracklin Oat Bran', 110, 3, 3, 140, 4.0, 10.0, 7, 160, 25)\n",
      "('Cream of Wheat (Quick)', 100, 3, 0, 80, 1.0, 21.0, 0, -1, 0)\n",
      "('Crispix', 110, 2, 0, 220, 1.0, 21.0, 3, 30, 25)\n",
      "('Crispy Wheat & Raisins', 100, 2, 1, 140, 2.0, 11.0, 10, 120, 25)\n",
      "('Double Chex', 100, 2, 0, 190, 1.0, 18.0, 5, 80, 25)\n",
      "('Froot Loops', 110, 2, 1, 125, 1.0, 11.0, 13, 30, 25)\n",
      "('Frosted Flakes', 110, 1, 0, 200, 1.0, 14.0, 11, 25, 25)\n",
      "('Frosted Mini-Wheats', 100, 3, 0, 0, 3.0, 14.0, 7, 100, 25)\n",
      "('Fruit & Fibre Dates & Walnuts and Oats ', 120, 3, 2, 160, 5.0, 12.0, 10, 200, 25)\n",
      "('Fruitful Bran', 120, 3, 0, 240, 5.0, 14.0, 12, 190, 25)\n",
      "('Fruity Pebbles', 110, 1, 1, 135, 0.0, 13.0, 12, 25, 25)\n",
      "('Golden Crisp', 100, 2, 0, 45, 0.0, 11.0, 15, 40, 25)\n",
      "('Golden Grahams', 110, 1, 1, 280, 0.0, 15.0, 9, 45, 25)\n",
      "('Grape Nuts Flakes', 100, 3, 1, 140, 3.0, 15.0, 5, 85, 25)\n",
      "('Grape-Nuts', 110, 3, 0, 170, 3.0, 17.0, 3, 90, 25)\n",
      "('Great Grains Pecan', 120, 3, 3, 75, 3.0, 13.0, 4, 100, 25)\n",
      "('Honey Graham Ohs', 120, 1, 2, 220, 1.0, 12.0, 11, 45, 25)\n",
      "('Honey Nut Cheerios', 110, 3, 1, 250, 1.5, 11.5, 10, 90, 25)\n",
      "('Honey-comb', 110, 1, 0, 180, 0.0, 14.0, 11, 35, 25)\n",
      "('Just Right Crunchy  Nuggets', 110, 2, 1, 170, 1.0, 17.0, 6, 60, 100)\n",
      "('Just Right Fruit & Nut', 140, 3, 1, 170, 2.0, 20.0, 9, 95, 100)\n",
      "('Kix', 110, 2, 1, 260, 0.0, 21.0, 3, 40, 25)\n",
      "('Life', 100, 4, 2, 150, 2.0, 12.0, 6, 95, 25)\n",
      "('Lucky Charms', 110, 2, 1, 180, 0.0, 12.0, 12, 55, 25)\n",
      "('Maypo', 100, 4, 1, 0, 0.0, 16.0, 3, 95, 25)\n",
      "('Muesli Raisins Dates Almonds', 150, 4, 3, 95, 3.0, 16.0, 11, 170, 25)\n",
      "('Muesli Raisins Peches Pecans', 150, 4, 3, 150, 3.0, 16.0, 11, 170, 25)\n",
      "('Mueslix Crispy Blend', 160, 3, 2, 150, 3.0, 17.0, 13, 160, 25)\n",
      "('Multi-Grain Cheerios', 100, 2, 1, 220, 2.0, 15.0, 6, 90, 25)\n",
      "('Nut&Honey Crunch', 120, 2, 1, 190, 0.0, 15.0, 9, 40, 25)\n",
      "('Nutri-Grain Almond-Raisin', 140, 3, 2, 220, 3.0, 21.0, 7, 130, 25)\n",
      "('Nutri-grain Wheat', 90, 3, 0, 170, 3.0, 18.0, 2, 90, 25)\n",
      "('Oatmeal Raisin Crisp', 130, 3, 2, 170, 1.5, 13.5, 10, 120, 25)\n",
      "('Post Nat. Raisin Bran', 120, 3, 1, 200, 6.0, 11.0, 14, 260, 25)\n",
      "('Product 19', 100, 3, 0, 320, 1.0, 20.0, 3, 45, 100)\n",
      "('Puffed Rice', 50, 1, 0, 0, 0.0, 13.0, 0, 15, 0)\n",
      "('Puffed Wheat', 50, 2, 0, 0, 1.0, 10.0, 0, 50, 0)\n",
      "('Quaker Oat Squares', 100, 4, 1, 135, 2.0, 14.0, 6, 110, 25)\n",
      "('Quaker Oatmeal', 100, 5, 2, 0, 2.7, -1.0, -1, 110, 0)\n",
      "('Raisin Bran', 120, 3, 1, 210, 5.0, 14.0, 12, 240, 25)\n",
      "('Raisin Nut Bran', 100, 3, 2, 140, 2.5, 10.5, 8, 140, 25)\n",
      "('Raisin Squares', 90, 2, 0, 0, 2.0, 15.0, 6, 110, 25)\n",
      "('Rice Chex', 110, 1, 0, 240, 0.0, 23.0, 2, 30, 25)\n",
      "('Rice Krispies', 110, 2, 0, 290, 0.0, 22.0, 3, 35, 25)\n",
      "('Shredded Wheat', 80, 2, 0, 0, 3.0, 16.0, 0, 95, 0)\n",
      "('Shredded Wheat n Bran', 90, 3, 0, 0, 4.0, 19.0, 0, 140, 0)\n",
      "('Shredded Wheat spoon size', 90, 3, 0, 0, 3.0, 20.0, 0, 120, 0)\n",
      "('Smacks', 110, 2, 1, 70, 1.0, 9.0, 15, 40, 25)\n",
      "('Special K', 110, 6, 0, 230, 1.0, 16.0, 3, 55, 25)\n",
      "('Strawberry Fruit Wheats', 90, 2, 0, 15, 3.0, 15.0, 5, 90, 25)\n",
      "('Total Corn Flakes', 110, 2, 1, 200, 0.0, 21.0, 3, 35, 100)\n",
      "('Total Raisin Bran', 140, 3, 1, 190, 4.0, 15.0, 14, 230, 100)\n",
      "('Total Whole Grain', 100, 3, 1, 200, 3.0, 16.0, 3, 110, 100)\n",
      "('Triples', 110, 2, 1, 250, 0.0, 21.0, 3, 60, 25)\n",
      "('Trix', 110, 1, 1, 140, 0.0, 13.0, 12, 25, 25)\n",
      "('Wheat Chex', 100, 3, 1, 230, 3.0, 17.0, 3, 115, 25)\n",
      "('Wheaties', 100, 3, 1, 200, 3.0, 17.0, 3, 110, 25)\n",
      "('Wheaties Honey Gold', 110, 2, 1, 200, 1.0, 16.0, 8, 60, 25)\n"
     ]
    }
   ],
   "source": [
    "mycursor.execute(\"SELECT * FROM nutrition;\")\n",
    "\n",
    "myresult = mycursor.fetchall()\n",
    "\n",
    "for x in myresult:\n",
    "    print(x)"
   ]
  },
  {
   "cell_type": "code",
   "execution_count": 43,
   "metadata": {},
   "outputs": [],
   "source": [
    "mycursor.execute(\"CREATE TABLE store (brand VARCHAR(255), mfr VARCHAR(1), type VARCHAR(1), shelf INT, weight FLOAT, cups FLOAT, rating FLOAT, PRIMARY KEY (brand))\")"
   ]
  },
  {
   "cell_type": "code",
   "execution_count": 44,
   "metadata": {},
   "outputs": [],
   "source": [
    "mycursor.execute(\"SELECT brand, mfr, type, shelf, weight, cups, rating FROM main\")\n",
    "\n",
    "# Pobrane dane\n",
    "result = mycursor.fetchall()\n",
    "\n",
    "# Wstaw dane do tabeli docelowej\n",
    "for row in result:\n",
    "    insert_query = \"INSERT INTO store (brand, mfr, type, shelf, weight, cups, rating) VALUES (%s, %s, %s, %s, %s, %s, %s)\"\n",
    "    mycursor.execute(insert_query, row)"
   ]
  },
  {
   "cell_type": "code",
   "execution_count": 45,
   "metadata": {},
   "outputs": [
    {
     "name": "stdout",
     "output_type": "stream",
     "text": [
      "('100% Bran', 'N', 'C', 3, 1.0, 0.33, 68.403)\n",
      "('100% Natural Bran', 'Q', 'C', 3, 1.0, 1.0, 33.9837)\n",
      "('All-Bran', 'K', 'C', 3, 1.0, 0.33, 59.4255)\n",
      "('All-Bran with Extra Fiber', 'K', 'C', 3, 1.0, 0.5, 93.7049)\n",
      "('Almond Delight', 'R', 'C', 3, 1.0, 0.75, 34.3848)\n",
      "('Apple Cinnamon Cheerios', 'G', 'C', 1, 1.0, 0.75, 29.5095)\n",
      "('Apple Jacks', 'K', 'C', 2, 1.0, 1.0, 33.1741)\n",
      "('Basic 4', 'G', 'C', 3, 1.33, 0.75, 37.0386)\n",
      "('Bran Chex', 'R', 'C', 1, 1.0, 0.67, 49.1203)\n",
      "('Bran Flakes', 'P', 'C', 3, 1.0, 0.67, 53.3138)\n",
      "('Cap n Crunch', 'Q', 'C', 2, 1.0, 0.75, 18.0429)\n",
      "('Cheerios', 'G', 'C', 1, 1.0, 1.25, 50.765)\n",
      "('Cinnamon Toast Crunch', 'G', 'C', 2, 1.0, 0.75, 19.8236)\n",
      "('Clusters', 'G', 'C', 3, 1.0, 0.5, 40.4002)\n",
      "('Cocoa Puffs', 'G', 'C', 2, 1.0, 1.0, 22.7364)\n",
      "('Corn Chex', 'R', 'C', 1, 1.0, 1.0, 41.445)\n",
      "('Corn Flakes', 'K', 'C', 1, 1.0, 1.0, 45.8633)\n",
      "('Corn Pops', 'K', 'C', 2, 1.0, 1.0, 35.7828)\n",
      "('Count Chocula', 'G', 'C', 2, 1.0, 1.0, 22.3965)\n",
      "('Cracklin Oat Bran', 'K', 'C', 3, 1.0, 0.5, 40.4488)\n",
      "('Cream of Wheat (Quick)', 'N', 'H', 2, 1.0, 1.0, 64.5338)\n",
      "('Crispix', 'K', 'C', 3, 1.0, 1.0, 46.8956)\n",
      "('Crispy Wheat & Raisins', 'G', 'C', 3, 1.0, 0.75, 36.1762)\n",
      "('Double Chex', 'R', 'C', 3, 1.0, 0.75, 44.3309)\n",
      "('Froot Loops', 'K', 'C', 2, 1.0, 1.0, 32.2076)\n",
      "('Frosted Flakes', 'K', 'C', 1, 1.0, 0.75, 31.436)\n",
      "('Frosted Mini-Wheats', 'K', 'C', 2, 1.0, 0.8, 58.3451)\n",
      "('Fruit & Fibre Dates & Walnuts and Oats ', 'P', 'C', 3, 1.25, 0.67, 40.917)\n",
      "('Fruitful Bran', 'K', 'C', 3, 1.33, 0.67, 41.0155)\n",
      "('Fruity Pebbles', 'P', 'C', 2, 1.0, 0.75, 28.0258)\n",
      "('Golden Crisp', 'P', 'C', 1, 1.0, 0.88, 35.2524)\n",
      "('Golden Grahams', 'G', 'C', 2, 1.0, 0.75, 23.804)\n",
      "('Grape Nuts Flakes', 'P', 'C', 3, 1.0, 0.88, 52.0769)\n",
      "('Grape-Nuts', 'P', 'C', 3, 1.0, 0.25, 53.371)\n",
      "('Great Grains Pecan', 'P', 'C', 3, 1.0, 0.33, 45.8117)\n",
      "('Honey Graham Ohs', 'Q', 'C', 2, 1.0, 1.0, 21.8713)\n",
      "('Honey Nut Cheerios', 'G', 'C', 1, 1.0, 0.75, 31.0722)\n",
      "('Honey-comb', 'P', 'C', 1, 1.0, 1.33, 28.7424)\n",
      "('Just Right Crunchy  Nuggets', 'K', 'C', 3, 1.0, 1.0, 36.5237)\n",
      "('Just Right Fruit & Nut', 'K', 'C', 3, 1.3, 0.75, 36.4715)\n",
      "('Kix', 'G', 'C', 2, 1.0, 1.5, 39.2411)\n",
      "('Life', 'Q', 'C', 2, 1.0, 0.67, 45.3281)\n",
      "('Lucky Charms', 'G', 'C', 2, 1.0, 1.0, 26.7345)\n",
      "('Maypo', 'A', 'H', 2, 1.0, 1.0, 54.8509)\n",
      "('Muesli Raisins Dates Almonds', 'R', 'C', 3, 1.0, 1.0, 37.1369)\n",
      "('Muesli Raisins Peches Pecans', 'R', 'C', 3, 1.0, 1.0, 34.1398)\n",
      "('Mueslix Crispy Blend', 'K', 'C', 3, 1.5, 0.67, 30.3134)\n",
      "('Multi-Grain Cheerios', 'G', 'C', 1, 1.0, 1.0, 40.106)\n",
      "('Nut&Honey Crunch', 'K', 'C', 2, 1.0, 0.67, 29.9243)\n",
      "('Nutri-Grain Almond-Raisin', 'K', 'C', 3, 1.33, 0.67, 40.6923)\n",
      "('Nutri-grain Wheat', 'K', 'C', 3, 1.0, 1.0, 59.6428)\n",
      "('Oatmeal Raisin Crisp', 'G', 'C', 3, 1.25, 0.5, 30.4508)\n",
      "('Post Nat. Raisin Bran', 'P', 'C', 3, 1.33, 0.67, 37.8406)\n",
      "('Product 19', 'K', 'C', 3, 1.0, 1.0, 41.5035)\n",
      "('Puffed Rice', 'Q', 'C', 3, 0.5, 1.0, 60.7561)\n",
      "('Puffed Wheat', 'Q', 'C', 3, 0.5, 1.0, 63.0056)\n",
      "('Quaker Oat Squares', 'Q', 'C', 3, 1.0, 0.5, 49.5119)\n",
      "('Quaker Oatmeal', 'Q', 'H', 1, 1.0, 0.67, 50.8284)\n",
      "('Raisin Bran', 'K', 'C', 2, 1.33, 0.75, 39.2592)\n",
      "('Raisin Nut Bran', 'G', 'C', 3, 1.0, 0.5, 39.7034)\n",
      "('Raisin Squares', 'K', 'C', 3, 1.0, 0.5, 55.3331)\n",
      "('Rice Chex', 'R', 'C', 1, 1.0, 1.13, 41.9989)\n",
      "('Rice Krispies', 'K', 'C', 1, 1.0, 1.0, 40.5602)\n",
      "('Shredded Wheat', 'N', 'C', 1, 0.83, 1.0, 68.2359)\n",
      "('Shredded Wheat n Bran', 'N', 'C', 1, 1.0, 0.67, 74.4729)\n",
      "('Shredded Wheat spoon size', 'N', 'C', 1, 1.0, 0.67, 72.8018)\n",
      "('Smacks', 'K', 'C', 2, 1.0, 0.75, 31.2301)\n",
      "('Special K', 'K', 'C', 1, 1.0, 1.0, 53.1313)\n",
      "('Strawberry Fruit Wheats', 'N', 'C', 2, 1.0, 1.0, 59.364)\n",
      "('Total Corn Flakes', 'G', 'C', 3, 1.0, 1.0, 38.8397)\n",
      "('Total Raisin Bran', 'G', 'C', 3, 1.5, 1.0, 28.5928)\n",
      "('Total Whole Grain', 'G', 'C', 3, 1.0, 1.0, 46.6588)\n",
      "('Triples', 'G', 'C', 3, 1.0, 0.75, 39.1062)\n",
      "('Trix', 'G', 'C', 2, 1.0, 1.0, 27.7533)\n",
      "('Wheat Chex', 'R', 'C', 1, 1.0, 0.67, 49.7874)\n",
      "('Wheaties', 'G', 'C', 1, 1.0, 1.0, 51.5922)\n",
      "('Wheaties Honey Gold', 'G', 'C', 1, 1.0, 0.75, 36.1876)\n"
     ]
    }
   ],
   "source": [
    "mycursor.execute(\"SELECT * FROM store;\")\n",
    "\n",
    "myresult = mycursor.fetchall()\n",
    "\n",
    "for x in myresult:\n",
    "    print(x)"
   ]
  }
 ],
 "metadata": {
  "kernelspec": {
   "display_name": "myenv",
   "language": "python",
   "name": "python3"
  },
  "language_info": {
   "codemirror_mode": {
    "name": "ipython",
    "version": 3
   },
   "file_extension": ".py",
   "mimetype": "text/x-python",
   "name": "python",
   "nbconvert_exporter": "python",
   "pygments_lexer": "ipython3",
   "version": "3.11.0"
  },
  "orig_nbformat": 4
 },
 "nbformat": 4,
 "nbformat_minor": 2
}
